{
  "nbformat": 4,
  "nbformat_minor": 0,
  "metadata": {
    "colab": {
      "provenance": [],
      "authorship_tag": "ABX9TyPCUDj1w/BxbIpmdCS2q9w8",
      "include_colab_link": true
    },
    "kernelspec": {
      "name": "python3",
      "display_name": "Python 3"
    },
    "language_info": {
      "name": "python"
    }
  },
  "cells": [
    {
      "cell_type": "markdown",
      "metadata": {
        "id": "view-in-github",
        "colab_type": "text"
      },
      "source": [
        "<a href=\"https://colab.research.google.com/github/natalieassaad/programming/blob/main/Programming_Q2ipynb.ipynb\" target=\"_parent\"><img src=\"https://colab.research.google.com/assets/colab-badge.svg\" alt=\"Open In Colab\"/></a>"
      ]
    },
    {
      "cell_type": "code",
      "execution_count": 1,
      "metadata": {
        "id": "4m7HgoiN2DG7"
      },
      "outputs": [],
      "source": [
        "# Programming Assignment Q2\n",
        "\n",
        "import numpy as np\n",
        "import matplotlib.pyplot as plt"
      ]
    },
    {
      "cell_type": "code",
      "source": [
        "# Use np.linspace to create a grid of 50 points ranging from 0 to 1\n",
        "x = np.linspace(0,1,50)\n",
        "\n",
        "# Create a numpy array  𝑦  containing the values for the natural logarithm function using the np.log(x) function. Create a numpy array  𝑧  containing the values for the exponential function using the np.exp(x) function.\n",
        "\n",
        "\n",
        "# Use the plt.scatter(x,y) method for the  𝑦  and  𝑧  vectors to create two scatter plots of the points you've created.\n",
        "# Use the plt.show() method to create the plot. That plot has some problems.\n",
        "\n",
        "# Before the plt.show() call, add labels to the  𝑥  and  𝑦  axes using plt.xlabel(label) and plt.ylabel(label). Add a title to the graph using plt.title(title), like \"Natural Log and Exponential Functions\".\n",
        "# That looks a lot better, but we need a legend. When you screate the scatter plots, add the argument label='Natural Log' or label='Exponential' to the .scatter method call. Before the plt.show() call, add a plt.legend(loc = 'lower right') method call, which creates a legend in the lower right.\n",
        "\n"
      ],
      "metadata": {
        "id": "bI79iWcV2aIu"
      },
      "execution_count": null,
      "outputs": []
    },
    {
      "cell_type": "code",
      "source": [
        "# Create a grid of 100 equally spaced points ranging from -6.5 to 6.5.\n",
        "\n",
        "# Use the sine and cosine functions in Numpy to compute the values of those functions for each point on your grid. (You'll have to find out what those functions are.)\n",
        "\n",
        "# Plot the values of the two functions for the values on the grid on the same plot.\n",
        "\n",
        "# The scatter plot looks really noisy. Instead of plt.scatter(x,y) to make a scatter plot, use plt.plot(x,y) to make a line graph.\n",
        "\n",
        "# Make the plot again, with labels for the axes, a title, and a legend in the lower left instead of the lower right."
      ],
      "metadata": {
        "id": "3X9X1wV32xcp"
      },
      "execution_count": null,
      "outputs": []
    }
  ]
}